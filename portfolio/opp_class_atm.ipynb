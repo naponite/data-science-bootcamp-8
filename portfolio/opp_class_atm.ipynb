{
  "nbformat": 4,
  "nbformat_minor": 0,
  "metadata": {
    "colab": {
      "provenance": [],
      "authorship_tag": "ABX9TyOsmXShFozlEAc6IjPd9ilA",
      "include_colab_link": true
    },
    "kernelspec": {
      "name": "python3",
      "display_name": "Python 3"
    },
    "language_info": {
      "name": "python"
    }
  },
  "cells": [
    {
      "cell_type": "markdown",
      "metadata": {
        "id": "view-in-github",
        "colab_type": "text"
      },
      "source": [
        "<a href=\"https://colab.research.google.com/github/naponite/data-science-bootcamp-8/blob/main/portfolio/opp_class_atm.ipynb\" target=\"_parent\"><img src=\"https://colab.research.google.com/assets/colab-badge.svg\" alt=\"Open In Colab\"/></a>"
      ]
    },
    {
      "cell_type": "markdown",
      "source": [
        "# Create class ATM for 5 method\n",
        "- deposit\n",
        "- withdraw\n",
        "- transfer\n",
        "- check balance\n",
        "- display transaction log"
      ],
      "metadata": {
        "id": "XgmL1MQavjG1"
      }
    },
    {
      "cell_type": "code",
      "source": [
        "import datetime\n",
        "import pytz\n",
        "import pandas as pd\n",
        "\n",
        "tz = pytz.timezone('Asia/Bangkok')\n",
        "x = datetime.datetime.now(tz)\n",
        "log_time = []\n",
        "log_type = []\n",
        "log_amount = []\n",
        "\n",
        "log_sheet = {\n",
        "    \"time\": log_time ,\n",
        "    \"type\": log_type ,\n",
        "    \"amount\": log_amount\n",
        "}\n",
        "\n",
        "class atm:\n",
        "\n",
        "  def __init__(self, acc_name, acc_num, promtpay, balance) :\n",
        "\n",
        "\n",
        "    self.name = acc_name\n",
        "    self.num = acc_num\n",
        "    self.promtpay = promtpay\n",
        "    self.balance = balance\n",
        "\n",
        "\n",
        "  def deposit(self, deposit) :\n",
        "    self.balance += deposit\n",
        "    print(x.strftime(\"%c\"))\n",
        "    print(f\"cash deposited: {deposit} THB\")\n",
        "    print(f\"your account balance is: {self.balance} THB\")\n",
        "\n",
        "    log_time.append([x.strftime(\"%c\")])\n",
        "    log_type.append(\"deposit\")\n",
        "    log_amount.append(self.balance)\n",
        "\n",
        "  def withdraw(self, withdraw) :\n",
        "    self.balance -= withdraw\n",
        "    print(x.strftime(\"%c\"))\n",
        "    print(f\"cash withdrawed: {withdraw} THB\")\n",
        "    print(f\"your account balance is: {self.balance} THB\")\n",
        "\n",
        "    log_time.append([x.strftime(\"%c\")])\n",
        "    log_type.append(\"withdraw\")\n",
        "    log_amount.append(self.balance)\n",
        "\n",
        "  def transfer(self, transfer, receiver) :\n",
        "    self.balance -= transfer\n",
        "    print(x.strftime(\"%c\"))\n",
        "    print(f\"cash transfered: {transfer} THB\")\n",
        "    print(f\"to account: {receiver}\")\n",
        "    print(f\"your account balance is: {self.balance} THB\")\n",
        "\n",
        "    log_time.append([x.strftime(\"%c\")])\n",
        "    log_type.append(\"transfer\")\n",
        "    log_amount.append(self.balance)\n",
        "\n",
        "  def check(self) :\n",
        "    print(x.strftime(\"%c\"))\n",
        "    print(f\"your account balance is: {self.balance} THB\")\n",
        "\n",
        "\n",
        "  def log(self) :\n",
        "\n",
        "    return(pd.DataFrame(log_sheet))\n",
        "\n",
        "\n"
      ],
      "metadata": {
        "id": "ePVTCjubEs0A"
      },
      "execution_count": 28,
      "outputs": []
    },
    {
      "cell_type": "code",
      "source": [
        "atm_tah = atm(\"Tah\", \"5013210\", \"0859195973\", 10000)"
      ],
      "metadata": {
        "id": "TfjwiFemviOz"
      },
      "execution_count": 29,
      "outputs": []
    },
    {
      "cell_type": "code",
      "source": [
        "atm_tah.deposit(5000)"
      ],
      "metadata": {
        "colab": {
          "base_uri": "https://localhost:8080/"
        },
        "id": "6bNZ0k5jx28q",
        "outputId": "c4fc5f0e-d488-48b0-ced3-1ffd81288ced"
      },
      "execution_count": 30,
      "outputs": [
        {
          "output_type": "stream",
          "name": "stdout",
          "text": [
            "Thu Aug 31 23:17:21 2023\n",
            "cash deposited: 5000 THB\n",
            "your account balance is: 15000 THB\n"
          ]
        }
      ]
    },
    {
      "cell_type": "code",
      "source": [
        "atm_tah.withdraw(1000)"
      ],
      "metadata": {
        "colab": {
          "base_uri": "https://localhost:8080/"
        },
        "id": "8fL-0p_UyHh7",
        "outputId": "31d3f6b4-e866-43a8-bb97-f92da8701d55"
      },
      "execution_count": 31,
      "outputs": [
        {
          "output_type": "stream",
          "name": "stdout",
          "text": [
            "Thu Aug 31 23:17:21 2023\n",
            "cash withdrawed: 1000 THB\n",
            "your account balance is: 14000 THB\n"
          ]
        }
      ]
    },
    {
      "cell_type": "code",
      "source": [
        "atm_tah.transfer(3000, \"Ms.Narisorn\")"
      ],
      "metadata": {
        "colab": {
          "base_uri": "https://localhost:8080/"
        },
        "id": "d1l8Xnb10cqh",
        "outputId": "15762195-ce54-4e74-c363-070ac7614768"
      },
      "execution_count": 32,
      "outputs": [
        {
          "output_type": "stream",
          "name": "stdout",
          "text": [
            "Thu Aug 31 23:17:21 2023\n",
            "cash transfered: 3000 THB\n",
            "to account: Ms.Narisorn\n",
            "your account balance is: 11000 THB\n"
          ]
        }
      ]
    },
    {
      "cell_type": "code",
      "source": [
        "atm_tah.check()"
      ],
      "metadata": {
        "colab": {
          "base_uri": "https://localhost:8080/"
        },
        "id": "RiT25-Z605jl",
        "outputId": "d8448147-6a9b-4675-e0c4-594b8dd29d1c"
      },
      "execution_count": 33,
      "outputs": [
        {
          "output_type": "stream",
          "name": "stdout",
          "text": [
            "Thu Aug 31 23:17:21 2023\n",
            "your account balance is: 11000 THB\n"
          ]
        }
      ]
    },
    {
      "cell_type": "code",
      "source": [
        "atm_tah.log()"
      ],
      "metadata": {
        "id": "vNieMuoa-Euu",
        "colab": {
          "base_uri": "https://localhost:8080/",
          "height": 143
        },
        "outputId": "6ec5b1f3-1454-4522-87d8-89aab1c36dee"
      },
      "execution_count": 34,
      "outputs": [
        {
          "output_type": "execute_result",
          "data": {
            "text/plain": [
              "                         time      type  amount\n",
              "0  [Thu Aug 31 23:17:21 2023]   deposit   15000\n",
              "1  [Thu Aug 31 23:17:21 2023]  withdraw   14000\n",
              "2  [Thu Aug 31 23:17:21 2023]  transfer   11000"
            ],
            "text/html": [
              "\n",
              "  <div id=\"df-fc09ee01-9f45-499b-a658-a64fd7da0557\" class=\"colab-df-container\">\n",
              "    <div>\n",
              "<style scoped>\n",
              "    .dataframe tbody tr th:only-of-type {\n",
              "        vertical-align: middle;\n",
              "    }\n",
              "\n",
              "    .dataframe tbody tr th {\n",
              "        vertical-align: top;\n",
              "    }\n",
              "\n",
              "    .dataframe thead th {\n",
              "        text-align: right;\n",
              "    }\n",
              "</style>\n",
              "<table border=\"1\" class=\"dataframe\">\n",
              "  <thead>\n",
              "    <tr style=\"text-align: right;\">\n",
              "      <th></th>\n",
              "      <th>time</th>\n",
              "      <th>type</th>\n",
              "      <th>amount</th>\n",
              "    </tr>\n",
              "  </thead>\n",
              "  <tbody>\n",
              "    <tr>\n",
              "      <th>0</th>\n",
              "      <td>[Thu Aug 31 23:17:21 2023]</td>\n",
              "      <td>deposit</td>\n",
              "      <td>15000</td>\n",
              "    </tr>\n",
              "    <tr>\n",
              "      <th>1</th>\n",
              "      <td>[Thu Aug 31 23:17:21 2023]</td>\n",
              "      <td>withdraw</td>\n",
              "      <td>14000</td>\n",
              "    </tr>\n",
              "    <tr>\n",
              "      <th>2</th>\n",
              "      <td>[Thu Aug 31 23:17:21 2023]</td>\n",
              "      <td>transfer</td>\n",
              "      <td>11000</td>\n",
              "    </tr>\n",
              "  </tbody>\n",
              "</table>\n",
              "</div>\n",
              "    <div class=\"colab-df-buttons\">\n",
              "\n",
              "  <div class=\"colab-df-container\">\n",
              "    <button class=\"colab-df-convert\" onclick=\"convertToInteractive('df-fc09ee01-9f45-499b-a658-a64fd7da0557')\"\n",
              "            title=\"Convert this dataframe to an interactive table.\"\n",
              "            style=\"display:none;\">\n",
              "\n",
              "  <svg xmlns=\"http://www.w3.org/2000/svg\" height=\"24px\" viewBox=\"0 -960 960 960\">\n",
              "    <path d=\"M120-120v-720h720v720H120Zm60-500h600v-160H180v160Zm220 220h160v-160H400v160Zm0 220h160v-160H400v160ZM180-400h160v-160H180v160Zm440 0h160v-160H620v160ZM180-180h160v-160H180v160Zm440 0h160v-160H620v160Z\"/>\n",
              "  </svg>\n",
              "    </button>\n",
              "\n",
              "  <style>\n",
              "    .colab-df-container {\n",
              "      display:flex;\n",
              "      gap: 12px;\n",
              "    }\n",
              "\n",
              "    .colab-df-convert {\n",
              "      background-color: #E8F0FE;\n",
              "      border: none;\n",
              "      border-radius: 50%;\n",
              "      cursor: pointer;\n",
              "      display: none;\n",
              "      fill: #1967D2;\n",
              "      height: 32px;\n",
              "      padding: 0 0 0 0;\n",
              "      width: 32px;\n",
              "    }\n",
              "\n",
              "    .colab-df-convert:hover {\n",
              "      background-color: #E2EBFA;\n",
              "      box-shadow: 0px 1px 2px rgba(60, 64, 67, 0.3), 0px 1px 3px 1px rgba(60, 64, 67, 0.15);\n",
              "      fill: #174EA6;\n",
              "    }\n",
              "\n",
              "    .colab-df-buttons div {\n",
              "      margin-bottom: 4px;\n",
              "    }\n",
              "\n",
              "    [theme=dark] .colab-df-convert {\n",
              "      background-color: #3B4455;\n",
              "      fill: #D2E3FC;\n",
              "    }\n",
              "\n",
              "    [theme=dark] .colab-df-convert:hover {\n",
              "      background-color: #434B5C;\n",
              "      box-shadow: 0px 1px 3px 1px rgba(0, 0, 0, 0.15);\n",
              "      filter: drop-shadow(0px 1px 2px rgba(0, 0, 0, 0.3));\n",
              "      fill: #FFFFFF;\n",
              "    }\n",
              "  </style>\n",
              "\n",
              "    <script>\n",
              "      const buttonEl =\n",
              "        document.querySelector('#df-fc09ee01-9f45-499b-a658-a64fd7da0557 button.colab-df-convert');\n",
              "      buttonEl.style.display =\n",
              "        google.colab.kernel.accessAllowed ? 'block' : 'none';\n",
              "\n",
              "      async function convertToInteractive(key) {\n",
              "        const element = document.querySelector('#df-fc09ee01-9f45-499b-a658-a64fd7da0557');\n",
              "        const dataTable =\n",
              "          await google.colab.kernel.invokeFunction('convertToInteractive',\n",
              "                                                    [key], {});\n",
              "        if (!dataTable) return;\n",
              "\n",
              "        const docLinkHtml = 'Like what you see? Visit the ' +\n",
              "          '<a target=\"_blank\" href=https://colab.research.google.com/notebooks/data_table.ipynb>data table notebook</a>'\n",
              "          + ' to learn more about interactive tables.';\n",
              "        element.innerHTML = '';\n",
              "        dataTable['output_type'] = 'display_data';\n",
              "        await google.colab.output.renderOutput(dataTable, element);\n",
              "        const docLink = document.createElement('div');\n",
              "        docLink.innerHTML = docLinkHtml;\n",
              "        element.appendChild(docLink);\n",
              "      }\n",
              "    </script>\n",
              "  </div>\n",
              "\n",
              "    </div>\n",
              "  </div>\n"
            ]
          },
          "metadata": {},
          "execution_count": 34
        }
      ]
    },
    {
      "cell_type": "code",
      "source": [],
      "metadata": {
        "id": "pZ686A9NKMd0"
      },
      "execution_count": null,
      "outputs": []
    }
  ]
}