{
  "nbformat": 4,
  "nbformat_minor": 0,
  "metadata": {
    "colab": {
      "provenance": [],
      "authorship_tag": "ABX9TyPklbPTNmYZVIGrSToJsXeK",
      "include_colab_link": true
    },
    "kernelspec": {
      "name": "python3",
      "display_name": "Python 3"
    },
    "language_info": {
      "name": "python"
    }
  },
  "cells": [
    {
      "cell_type": "markdown",
      "metadata": {
        "id": "view-in-github",
        "colab_type": "text"
      },
      "source": [
        "<a href=\"https://colab.research.google.com/github/naponite/data-science-bootcamp-8/blob/main/python/work_with_public_api_hw04.ipynb\" target=\"_parent\"><img src=\"https://colab.research.google.com/assets/colab-badge.svg\" alt=\"Open In Colab\"/></a>"
      ]
    },
    {
      "cell_type": "code",
      "execution_count": null,
      "metadata": {
        "colab": {
          "base_uri": "https://localhost:8080/",
          "height": 157
        },
        "id": "gtfY2GDt4kfk",
        "outputId": "51f25141-411f-4728-8460-be81bf618869"
      },
      "outputs": [
        {
          "output_type": "stream",
          "name": "stdout",
          "text": [
            "CODE:200\n"
          ]
        },
        {
          "output_type": "execute_result",
          "data": {
            "text/plain": [
              "'{\"apiVersion\":\"2023-04-25\",\"requestId\":\"64fadf4e654ed7be7a5e6b1e\",\"context\":\"yourExampleString\",\"data\":{\"item\":{\"transactionId\":\"4b66461bf88b61e1e4326356534c135129defb504c7acb2fd6c92697d79eb250\",\"index\":1,\"isConfirmed\":true,\"minedInBlockHash\":\"00000000407f119ecb74b44229228910400aaeb9f4e3b9869955b85a53e9b7db\",\"minedInBlockHeight\":1939750,\"recipients\":[{\"address\":\"2MzakdGTEp8SMWEHKwKM4HYv6uNCBXtHpkV\",\"amount\":\"0.00014400\"},{\"address\":\"2N3zifWQLo3SQFRCYWA5QCkssAJtByRxuVh\",\"amount\":\"0.00842140\"}],\"senders\":[{\"address\":\"2N5PcdirZUzKF9bWuGdugNuzcQrCbBudxv1\",\"amount\":\"0.00873472\"}],\"timestamp\":1615382113,\"transactionHash\":\"1ec73b0f61359927d02376b35993b756b1097cb9a857bec23da4c98c4977d2b2\",\"blockchainSpecific\":{\"locktime\":0,\"size\":248,\"vSize\":166,\"version\":1,\"vin\":[{\"addresses\":[\"2N5PcdirZUzKF9bWuGdugNuzcQrCbBudxv1\"],\"scriptSig\":{\"asm\":\"0014daaf6d5cb86befe42df851a4d1df052e663754c1\",\"hex\":\"160014daaf6d5cb86befe42df851a4d1df052e663754c1\",\"type\":\"scripthash\"},\"sequence\":4294967295,\"txid\":\"caee978cae255bbe303ac86152679e46113a8b12925aa3afaa312d89d11ccbf8\",\"txinwitness\":[\"3045022100c11ea5740bcd69f0f68a4914279838014d28923134d18e05c5a5486dfd06cc8c02200dadccec3f07bed0d1040f9e5a155efa5fdd40fc91f92342578d26848da4c6b901\",\"0287e995526aa6ccb96141bb598fc7f73323279e026c55039d15f0cfbda5dea841\"],\"value\":\"0.00873472\",\"vout\":1}],\"vout\":[{\"isSpent\":false,\"scriptPubKey\":{\"addresses\":[\"2MzakdGTEp8SMWEHKwKM4HYv6uNCBXtHpkV\"],\"asm\":\"OP_HASH160 507a5bd8cac1d9efdf4c0a4bfacb3e0abb4f8d15 OP_EQUAL\",\"hex\":\"a914507a5bd8cac1d9efdf4c0a4bfacb3e0abb4f8d1587\",\"reqSigs\":1,\"type\":\"scripthash\"},\"value\":\"0.00014400\"},{\"isSpent\":true,\"scriptPubKey\":{\"addresses\":[\"2N3zifWQLo3SQFRCYWA5QCkssAJtByRxuVh\"],\"asm\":\"OP_HASH160 75eb14fa1dc2c72637df3c58bc22d925ca0753af OP_EQUAL\",\"hex\":\"a91475eb14fa1dc2c72637df3c58bc22d925ca0753af87\",\"reqSigs\":1,\"type\":\"scripthash\"},\"value\":\"0.00842140\"}]},\"fee\":{\"amount\":\"0.00016932\",\"unit\":\"BTC\"}}}}'"
            ],
            "application/vnd.google.colaboratory.intrinsic+json": {
              "type": "string"
            }
          },
          "metadata": {},
          "execution_count": 7
        }
      ],
      "source": [
        "\n",
        "## reference https://developers.cryptoapis.io/technical-documentation/api/blockchain-data/unified-endpoints/get-transaction-details-by-transaction-id\n",
        "## https://www.blockchain.com/explorer/mempool/btc\n",
        "\n",
        "\n",
        "import requests\n",
        "\n",
        "blockchain = \"bitcoin\"\n",
        "network = \"testnet\"\n",
        "transactionId = \"4b66461bf88b61e1e4326356534c135129defb504c7acb2fd6c92697d79eb250\"\n",
        "url = f\"https://rest.cryptoapis.io/blockchain-data/{blockchain}/{network}/transactions/{transactionId}\"\n",
        "\n",
        "## api key is generated in private user, may be disable is error run this code\n",
        "my_api_key = \"491458f66beb9e584bc3bc84e99cfcc9d0329dc4\"\n",
        "querystring = {\"context\":\"yourExampleString\"}\n",
        "headers = {\n",
        "  'Content-Type': \"application/json\",\n",
        "  'X-API-Key': my_api_key\n",
        "}\n",
        "\n",
        "resp = requests.get(url, headers=headers  , params=querystring)\n",
        "\n",
        "## if success, OK 200\n",
        "print(f\"CODE:{resp.status_code}\")\n",
        "\n",
        "## see information\n",
        "resp.text"
      ]
    },
    {
      "cell_type": "code",
      "source": [
        "resp.json()[\"data\"][\"item\"][\"fee\"]"
      ],
      "metadata": {
        "colab": {
          "base_uri": "https://localhost:8080/"
        },
        "id": "-hgObKc75mQm",
        "outputId": "46040a78-f4cc-4783-fa52-54cb9b22b629"
      },
      "execution_count": null,
      "outputs": [
        {
          "output_type": "execute_result",
          "data": {
            "text/plain": [
              "{'amount': '0.00016932', 'unit': 'BTC'}"
            ]
          },
          "metadata": {},
          "execution_count": 16
        }
      ]
    },
    {
      "cell_type": "code",
      "source": [],
      "metadata": {
        "id": "hI4hlvfb-YV2"
      },
      "execution_count": null,
      "outputs": []
    }
  ]
}