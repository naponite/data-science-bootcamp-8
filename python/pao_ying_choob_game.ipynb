{
  "nbformat": 4,
  "nbformat_minor": 0,
  "metadata": {
    "colab": {
      "provenance": [],
      "authorship_tag": "ABX9TyPsbbei8YEQjjtNoGs1WyHV",
      "include_colab_link": true
    },
    "kernelspec": {
      "name": "python3",
      "display_name": "Python 3"
    },
    "language_info": {
      "name": "python"
    }
  },
  "cells": [
    {
      "cell_type": "markdown",
      "metadata": {
        "id": "view-in-github",
        "colab_type": "text"
      },
      "source": [
        "<a href=\"https://colab.research.google.com/github/naponite/data-science-bootcamp-8/blob/main/python/pao_ying_choob_game.ipynb\" target=\"_parent\"><img src=\"https://colab.research.google.com/assets/colab-badge.svg\" alt=\"Open In Colab\"/></a>"
      ]
    },
    {
      "cell_type": "code",
      "execution_count": 24,
      "metadata": {
        "id": "lyKf6tTF21fZ"
      },
      "outputs": [],
      "source": [
        "def pao_ying_choob() :\n",
        "  import random\n",
        "  print(\"Welcome to Pao Ying Choob Game!!\")\n",
        "  answer = input(\"Ready to play? (y/n):\" )\n",
        "  answer2 = []\n",
        "  count_win = 0\n",
        "  count_draw = 0\n",
        "  count_lose = 0\n",
        "  guess = [\"hammer\", \"scissor\",\"paper\"]\n",
        "\n",
        "  if answer == \"y\":\n",
        "    while True :\n",
        "      print(\"please select [hammer / scissor / paper]\")\n",
        "      rand = random.sample(guess,1)\n",
        "      answer2 = input()\n",
        "\n",
        "#select hammer loop\n",
        "      if answer2 == \"hammer\" :\n",
        "        if rand[0] == \"hammer\" :\n",
        "          print(\"Draw !!\")\n",
        "          count_draw = count_draw + 1\n",
        "\n",
        "        elif rand[0] == \"scissor\" :\n",
        "          print(\"Win !!\")\n",
        "          count_win = count_win + 1\n",
        "\n",
        "\n",
        "        elif rand[0] == \"paper\" :\n",
        "          print(\"Lose !!\")\n",
        "          count_lose = count_lose + 1\n",
        "\n",
        "        else :\n",
        "          print(\"incorrect input, please try again\")\n",
        "\n",
        "#select scissor loop\n",
        "      elif answer2 == \"scissor\" :\n",
        "        if rand[0] == \"scissor\" :\n",
        "          print(\"Draw !!\")\n",
        "          count_draw = count_draw + 1\n",
        "\n",
        "        elif rand[0] == \"paper\" :\n",
        "          print(\"Win !!\")\n",
        "          count_win = count_win + 1\n",
        "\n",
        "\n",
        "        elif rand[0] == \"hammer\" :\n",
        "          print(\"Lose !!\")\n",
        "          count_lose = count_lose + 1\n",
        "\n",
        "        else :\n",
        "          print(\"incorrect input, please try again\")\n",
        "\n",
        "\n",
        "#select paper loop\n",
        "      elif answer2 == \"paper\" :\n",
        "        if rand[0] == \"paper\" :\n",
        "          print(\"Draw !!\")\n",
        "          count_draw = count_draw + 1\n",
        "\n",
        "        elif rand[0] == \"hammer\" :\n",
        "          print(\"Win !!\")\n",
        "          count_win = count_win + 1\n",
        "\n",
        "\n",
        "        elif rand[0] == \"scissor\" :\n",
        "          print(\"Lose !!\")\n",
        "          count_lose = count_lose + 1\n",
        "\n",
        "        else :\n",
        "          print(\"incorrect input, please try again\")\n",
        "\n",
        "      elif answer2 == \"quit\" :\n",
        "          print(f\"Total win: {count_win}\")\n",
        "          print(f\"Total draw: {count_draw}\")\n",
        "          print(f\"Total lose: {count_lose}\")\n",
        "\n",
        "          win_rate = round(count_win*100/(count_win + count_draw + count_lose),2)\n",
        "          print(f\"Your Win rate is [{win_rate}] percent\")\n",
        "\n",
        "          break\n",
        "\n",
        "      else :\n",
        "          print(\"incorrect input, please select [hammer / scissor / paper]\")\n",
        "\n",
        "  else:\n",
        "    print(\"See you again !!\")\n",
        "\n",
        "\n"
      ]
    },
    {
      "cell_type": "code",
      "source": [
        "pao_ying_choob()\n",
        "\n"
      ],
      "metadata": {
        "colab": {
          "base_uri": "https://localhost:8080/"
        },
        "id": "pLFwHu9I3JSy",
        "outputId": "5cd96577-157c-44a0-a1cf-129a8f1e4dc7"
      },
      "execution_count": 25,
      "outputs": [
        {
          "output_type": "stream",
          "name": "stdout",
          "text": [
            "Welcome to Pao Ying Choob Game!!\n",
            "Ready to play? (y/n):y\n",
            "please select [hammer / scissor / paper]\n",
            "hammer\n",
            "Lose !!\n",
            "please select [hammer / scissor / paper]\n",
            "hammer\n",
            "Draw !!\n",
            "please select [hammer / scissor / paper]\n",
            "hammer\n",
            "Lose !!\n",
            "please select [hammer / scissor / paper]\n",
            "hammer\n",
            "Lose !!\n",
            "please select [hammer / scissor / paper]\n",
            "hammer\n",
            "Win !!\n",
            "please select [hammer / scissor / paper]\n",
            "quit\n",
            "Total win: 1\n",
            "Total draw: 1\n",
            "Total lose: 3\n",
            "Your Win rate is [20.0] percent\n"
          ]
        }
      ]
    },
    {
      "cell_type": "code",
      "source": [
        "pppa\n"
      ],
      "metadata": {
        "id": "F7KPzgeJ-L7m",
        "colab": {
          "base_uri": "https://localhost:8080/"
        },
        "outputId": "a1152dcc-623b-417b-e1e7-b43633cc753a"
      },
      "execution_count": 9,
      "outputs": [
        {
          "output_type": "execute_result",
          "data": {
            "text/plain": [
              "str"
            ]
          },
          "metadata": {},
          "execution_count": 9
        }
      ]
    },
    {
      "cell_type": "code",
      "source": [],
      "metadata": {
        "id": "A0SpggjocUh-"
      },
      "execution_count": null,
      "outputs": []
    }
  ]
}