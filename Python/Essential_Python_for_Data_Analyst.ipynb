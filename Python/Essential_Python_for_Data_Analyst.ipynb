{
  "nbformat": 4,
  "nbformat_minor": 0,
  "metadata": {
    "colab": {
      "provenance": [],
      "authorship_tag": "ABX9TyON7Moq82XNlOl6SRSbiSqe",
      "include_colab_link": true
    },
    "kernelspec": {
      "name": "python3",
      "display_name": "Python 3"
    },
    "language_info": {
      "name": "python"
    }
  },
  "cells": [
    {
      "cell_type": "markdown",
      "metadata": {
        "id": "view-in-github",
        "colab_type": "text"
      },
      "source": [
        "<a href=\"https://colab.research.google.com/github/naponite/data-science-bootcamp-8/blob/main/Python/Essential_Python_for_Data_Analyst.ipynb\" target=\"_parent\"><img src=\"https://colab.research.google.com/assets/colab-badge.svg\" alt=\"Open In Colab\"/></a>"
      ]
    },
    {
      "cell_type": "markdown",
      "source": [
        "# Essential Python for Data Analyst\n",
        "\n",
        "\n",
        "- control flow + review function\n",
        "- OOP\n",
        "- try except block\n",
        "- csv, json\n",
        "- context manager\n",
        "- requests, api\n",
        "- basic web scraping\n",
        "- intro to data science libraries (numpy, pandas)"
      ],
      "metadata": {
        "id": "RUEFuckVZCdY"
      }
    },
    {
      "cell_type": "code",
      "source": [
        "\n",
        "# if elif else\n",
        "def grading(score):\n",
        "  # docstrings\n",
        "  \"\"\"\n",
        "  this function return grade for a student\n",
        "  in UK\n",
        "  \"\"\"\n",
        "\n",
        "  if score >= 70:\n",
        "    return \"Disctinction\"\n",
        "  elif score >= 60:\n",
        "    return \"Merit\"\n",
        "  elif score >= 50:\n",
        "    return \"Passed\"\n",
        "  else:\n",
        "    return \"Failed\""
      ],
      "metadata": {
        "id": "0YGYQ8HIY968"
      },
      "execution_count": null,
      "outputs": []
    },
    {
      "cell_type": "code",
      "source": [
        "grading(80)"
      ],
      "metadata": {
        "colab": {
          "base_uri": "https://localhost:8080/",
          "height": 35
        },
        "id": "3lNSHIlpayRQ",
        "outputId": "974320c8-d98b-4435-e643-cb340069a8c1"
      },
      "execution_count": null,
      "outputs": [
        {
          "output_type": "execute_result",
          "data": {
            "text/plain": [
              "'Disctinction'"
            ],
            "application/vnd.google.colaboratory.intrinsic+json": {
              "type": "string"
            }
          },
          "metadata": {},
          "execution_count": 4
        }
      ]
    },
    {
      "cell_type": "code",
      "source": [
        "# for loop\n",
        "nums = [1,2,3,4,5] ## => [2,4,6,8,10]\n",
        "\n",
        "new_nums = [] # empty list\n",
        "\n",
        "for num in nums:\n",
        "  new_nums.append(num*2)\n",
        "\n",
        "print(new_nums)\n"
      ],
      "metadata": {
        "colab": {
          "base_uri": "https://localhost:8080/"
        },
        "id": "Ovaf6fgAa16_",
        "outputId": "223dde73-dd41-4786-eef9-18bfd777890e"
      },
      "execution_count": null,
      "outputs": [
        {
          "output_type": "stream",
          "name": "stdout",
          "text": [
            "[2, 4, 6, 8, 10]\n"
          ]
        }
      ]
    },
    {
      "cell_type": "code",
      "source": [
        "## program to check odd/ even numbers\n",
        "nums  = [35, 50, 22, 21, 28]\n"
      ],
      "metadata": {
        "id": "k2-GlLFGcqRb"
      },
      "execution_count": null,
      "outputs": []
    },
    {
      "cell_type": "code",
      "source": [
        "# while loop\n",
        "count = 0\n",
        "\n",
        "while count < 5:\n",
        "  print(\"hello\")"
      ],
      "metadata": {
        "id": "h911fIbed5BB"
      },
      "execution_count": null,
      "outputs": []
    },
    {
      "cell_type": "code",
      "source": [
        "# get input from a user\n",
        "def animal_guessing():\n",
        "  set_animal = \"hippo\"\n",
        "  answers = []\n",
        "  while True:\n",
        "    guess = input(\"Guess the animal: \")\n",
        "    answers.append(guess)\n",
        "    if guess == set_animal:\n",
        "      print(\"Hooray! correct answer\")\n",
        "      print(f\"Logs: {answers} \")\n",
        "      break\n",
        "    elif guess == \"quit\":\n",
        "      print(\"See you next time.\")\n",
        "      break\n",
        "    else:\n",
        "      print(\"Nope! please try again.\")\n",
        "\n"
      ],
      "metadata": {
        "id": "dxb95YJeenr1"
      },
      "execution_count": null,
      "outputs": []
    },
    {
      "cell_type": "code",
      "source": [
        "animal_guessing()\n"
      ],
      "metadata": {
        "colab": {
          "base_uri": "https://localhost:8080/"
        },
        "id": "jv8-F9zRfbbR",
        "outputId": "959723b6-0e33-4dcb-993c-948b3c7339f5"
      },
      "execution_count": null,
      "outputs": [
        {
          "output_type": "stream",
          "name": "stdout",
          "text": [
            "Guess the animal: dog\n",
            "Nope! please try again.\n",
            "Guess the animal: cat\n",
            "Nope! please try again.\n",
            "Guess the animal: bird\n",
            "Nope! please try again.\n",
            "Guess the animal: aaa\n",
            "Nope! please try again.\n",
            "Guess the animal: owl\n",
            "Nope! please try again.\n",
            "Guess the animal: hippo\n",
            "Hooray! correct answer\n",
            "Logs: ['dog', 'cat', 'bird', 'aaa', 'owl', 'hippo'] \n"
          ]
        }
      ]
    },
    {
      "cell_type": "code",
      "source": [
        "## OOP => Object Oriented Progamming\n"
      ],
      "metadata": {
        "id": "R03WF-Sgff8l"
      },
      "execution_count": null,
      "outputs": []
    },
    {
      "cell_type": "code",
      "source": [
        "## Dog\n",
        "class Dog:\n",
        "  # initialize\n",
        "  def __init__(self,name, age, breed): # double _ is dunder  # self will refer to Dog\n",
        "        self.name = name\n",
        "        self.age = age\n",
        "        self.breed = breed\n",
        "\n",
        "  ## dog methods (function)\n",
        "  def sit(self):\n",
        "      print(\"I am sitting now.\")\n",
        "\n",
        "  def sleep(self):\n",
        "    print(\"I'm sleeping now.\")\n",
        "\n",
        "  def get_older(self, year):\n",
        "    self.age += year\n",
        "    print(self.age)\n",
        "\n"
      ],
      "metadata": {
        "id": "FRrRscJXhUpX"
      },
      "execution_count": null,
      "outputs": []
    },
    {
      "cell_type": "code",
      "source": [
        "## create a new instance\n",
        "dog1 = Dog(\"john\", 7, \"chihuahua\")\n"
      ],
      "metadata": {
        "id": "eUyXyD9DhbHz"
      },
      "execution_count": null,
      "outputs": []
    },
    {
      "cell_type": "code",
      "source": [
        "dog1.sit()\n"
      ],
      "metadata": {
        "colab": {
          "base_uri": "https://localhost:8080/"
        },
        "id": "6jR8wrU4hhDX",
        "outputId": "4b70aad6-c3ca-404d-c6cc-13c965307418"
      },
      "execution_count": null,
      "outputs": [
        {
          "output_type": "stream",
          "name": "stdout",
          "text": [
            "I am sitting now.\n"
          ]
        }
      ]
    },
    {
      "cell_type": "code",
      "source": [
        "dog1.sleep()"
      ],
      "metadata": {
        "colab": {
          "base_uri": "https://localhost:8080/"
        },
        "id": "dYDZWduWl7n0",
        "outputId": "bf88d1eb-7a85-48e4-d325-2c8b52c16962"
      },
      "execution_count": null,
      "outputs": [
        {
          "output_type": "stream",
          "name": "stdout",
          "text": [
            "I'm sleeping now.\n"
          ]
        }
      ]
    },
    {
      "cell_type": "code",
      "source": [
        "dog1.get_older(5)"
      ],
      "metadata": {
        "colab": {
          "base_uri": "https://localhost:8080/"
        },
        "id": "uuBUT2SRl72l",
        "outputId": "365d9eb6-5b95-4b80-8f8a-da2a32d8018e"
      },
      "execution_count": null,
      "outputs": [
        {
          "output_type": "stream",
          "name": "stdout",
          "text": [
            "12\n"
          ]
        }
      ]
    },
    {
      "cell_type": "code",
      "source": [
        "class Apple:\n",
        "  def __init__(self, size, price, color):\n",
        "    self.size = size\n",
        "    self.price = price\n",
        "    self.color = color\n",
        "\n",
        "apple1 = Apple(\"medium\", 5, \"red\")\n",
        "\n",
        "print(apple1.size, apple1.price, apple1.color)"
      ],
      "metadata": {
        "colab": {
          "base_uri": "https://localhost:8080/"
        },
        "id": "5nEqvD38hilp",
        "outputId": "8982ce26-8a6a-438d-c6b6-248e0bc50063"
      },
      "execution_count": null,
      "outputs": [
        {
          "output_type": "stream",
          "name": "stdout",
          "text": [
            "medium 5 red\n"
          ]
        }
      ]
    },
    {
      "cell_type": "code",
      "source": [
        "import csv"
      ],
      "metadata": {
        "id": "4Qp5JdKujug6"
      },
      "execution_count": null,
      "outputs": []
    },
    {
      "cell_type": "code",
      "source": [
        "# open csv file using read mode\n",
        "file = open(\"friend.csv\", \"r\")"
      ],
      "metadata": {
        "id": "GP_ZMvlLuLya"
      },
      "execution_count": null,
      "outputs": []
    },
    {
      "cell_type": "code",
      "source": [
        "# read content in this file\n",
        "data = csv.reader(file)\n"
      ],
      "metadata": {
        "id": "hEmhniNQuUgW"
      },
      "execution_count": null,
      "outputs": []
    },
    {
      "cell_type": "code",
      "source": [
        "for row in data:\n",
        "  print(row)"
      ],
      "metadata": {
        "colab": {
          "base_uri": "https://localhost:8080/"
        },
        "id": "JZY5g4PFuYze",
        "outputId": "6cbc8990-cc21-47b5-e429-9d0b13f034bb"
      },
      "execution_count": null,
      "outputs": [
        {
          "output_type": "stream",
          "name": "stdout",
          "text": [
            "['id', 'name', 'age', 'company']\n",
            "['1', 'toy', '30', 'Google']\n",
            "['2', 'top', '31', 'Amazon']\n",
            "['3', 'jane', '25', 'Microsoft']\n",
            "['4', 'john', '28', 'Meta']\n",
            "['5', 'anna', '29', 'Anaconda']\n"
          ]
        }
      ]
    },
    {
      "cell_type": "code",
      "source": [
        "# close file\n",
        "file.close"
      ],
      "metadata": {
        "colab": {
          "base_uri": "https://localhost:8080/"
        },
        "id": "iWejZfTBu_nk",
        "outputId": "b44c9fe6-d5b9-465d-b82c-9ea916119576"
      },
      "execution_count": null,
      "outputs": [
        {
          "output_type": "execute_result",
          "data": {
            "text/plain": [
              "<function TextIOWrapper.close()>"
            ]
          },
          "metadata": {},
          "execution_count": 50
        }
      ]
    },
    {
      "cell_type": "code",
      "source": [
        "# pandas\n",
        "import pandas as pd"
      ],
      "metadata": {
        "id": "gMr_bHmdvGOi"
      },
      "execution_count": null,
      "outputs": []
    },
    {
      "cell_type": "code",
      "source": [
        "pd.read_csv('friend')"
      ],
      "metadata": {
        "id": "qil29dSZvcJo"
      },
      "execution_count": null,
      "outputs": []
    },
    {
      "cell_type": "code",
      "source": [
        "## context manager => with\n",
        "## use to open data file"
      ],
      "metadata": {
        "id": "7sspSEw1wLFD"
      },
      "execution_count": null,
      "outputs": []
    },
    {
      "cell_type": "code",
      "source": [
        "# import csv or\n",
        "from csv import reader  # if this method, we no need to type csv.reader\n",
        "result = []\n",
        "\n",
        "with open(\"friend.csv\", \"r\") as file:\n",
        "  #data = csv.reader(file)\n",
        "  data = reader(file)\n",
        "  for row in data:\n",
        "    result.append(row)\n",
        "\n",
        "result"
      ],
      "metadata": {
        "colab": {
          "base_uri": "https://localhost:8080/"
        },
        "id": "LXh-zSDZwRjW",
        "outputId": "94574d13-5a64-47c8-ec9d-f010dbbaad1a"
      },
      "execution_count": null,
      "outputs": [
        {
          "output_type": "execute_result",
          "data": {
            "text/plain": [
              "[['id', 'name', 'age', 'company'],\n",
              " ['1', 'toy', '30', 'Google'],\n",
              " ['2', 'top', '31', 'Amazon'],\n",
              " ['3', 'jane', '25', 'Microsoft'],\n",
              " ['4', 'john', '28', 'Meta'],\n",
              " ['5', 'anna', '29', 'Anaconda']]"
            ]
          },
          "metadata": {},
          "execution_count": 55
        }
      ]
    },
    {
      "cell_type": "code",
      "source": [
        "## write mode\n",
        "from csv import reader, writer\n",
        "header = []"
      ],
      "metadata": {
        "id": "Akx24ivvwbNJ"
      },
      "execution_count": null,
      "outputs": []
    },
    {
      "cell_type": "code",
      "source": [
        "## dict => json\n",
        "import json\n",
        "book = {\n",
        "    \"name\": \"How to be better at almost everthing\",\n",
        "    \"year\": 2018,\n",
        "    \"author\": \"Pat Flynn\",\n",
        "    \"favorite\": True\n",
        "\n",
        "}\n",
        "\n",
        "with open(\"book.json\", \"w\") as file:\n",
        "  json.dump(book, file)\n",
        "  print(\"Create file successfully!\")"
      ],
      "metadata": {
        "colab": {
          "base_uri": "https://localhost:8080/"
        },
        "id": "Zxez4_ni0KA1",
        "outputId": "78146b9d-6112-48b4-8be3-f76717238bbb"
      },
      "execution_count": null,
      "outputs": [
        {
          "output_type": "stream",
          "name": "stdout",
          "text": [
            "Create file successfully!\n"
          ]
        }
      ]
    },
    {
      "cell_type": "code",
      "source": [
        "# API => Application Programming Interface\n",
        "# Communication between two machines\n",
        "\n",
        "# request-response\n",
        "# simple example\n",
        "import requests\n",
        "\n",
        "url =\"https://swapi.dev/api/people/9/\"\n",
        "\n",
        "resp= requests.get(url)\n",
        "\n",
        "## if success, OK 200\n",
        "print(f\"CODE:{resp.status_code}\")\n",
        "\n",
        "## see information\n",
        "resp.text\n"
      ],
      "metadata": {
        "id": "rWnlnlo81MAZ",
        "colab": {
          "base_uri": "https://localhost:8080/",
          "height": 140
        },
        "outputId": "0cad17cf-363e-4d60-e2e7-b4e1786c6dbc"
      },
      "execution_count": null,
      "outputs": [
        {
          "output_type": "stream",
          "name": "stdout",
          "text": [
            "CODE:200\n"
          ]
        },
        {
          "output_type": "execute_result",
          "data": {
            "text/plain": [
              "'{\"name\":\"Biggs Darklighter\",\"height\":\"183\",\"mass\":\"84\",\"hair_color\":\"black\",\"skin_color\":\"light\",\"eye_color\":\"brown\",\"birth_year\":\"24BBY\",\"gender\":\"male\",\"homeworld\":\"https://swapi.dev/api/planets/1/\",\"films\":[\"https://swapi.dev/api/films/1/\"],\"species\":[],\"vehicles\":[],\"starships\":[\"https://swapi.dev/api/starships/12/\"],\"created\":\"2014-12-10T15:59:50.509000Z\",\"edited\":\"2014-12-20T21:17:50.323000Z\",\"url\":\"https://swapi.dev/api/people/9/\"}'"
            ],
            "application/vnd.google.colaboratory.intrinsic+json": {
              "type": "string"
            }
          },
          "metadata": {},
          "execution_count": 18
        }
      ]
    },
    {
      "cell_type": "code",
      "source": [
        "## see information in json format\n",
        "resp.json()\n",
        "resp.json()[\"name\"]"
      ],
      "metadata": {
        "colab": {
          "base_uri": "https://localhost:8080/",
          "height": 35
        },
        "id": "UbA1chlzVwth",
        "outputId": "b9b2287f-eb30-48db-d394-5edc9505f886"
      },
      "execution_count": null,
      "outputs": [
        {
          "output_type": "execute_result",
          "data": {
            "text/plain": [
              "'Biggs Darklighter'"
            ],
            "application/vnd.google.colaboratory.intrinsic+json": {
              "type": "string"
            }
          },
          "metadata": {},
          "execution_count": 27
        }
      ]
    },
    {
      "cell_type": "code",
      "source": [
        "# get API data for 5 names\n",
        "\n",
        "import requests\n",
        "import time\n",
        "\n",
        "characters = []\n",
        "\n",
        "for i in range(5):\n",
        "    url = f\"https://swapi.dev/api/people/{i+1}\"\n",
        "    resp= requests.get(url)\n",
        "    if resp.status_code == 200:\n",
        "      json_data = resp.json()\n",
        "      characters.append(\n",
        "          (json_data[\"name\"],\n",
        "          json_data[\"height\"])    # this is used case for tuple (list also can use)\n",
        "      )\n",
        "    # break a second\n",
        "    time.sleep(1)\n",
        "\n",
        "    else:\n",
        "      characters.append(\"error\") # add error detector\n",
        "\n",
        "\n",
        "print(characters)\n"
      ],
      "metadata": {
        "colab": {
          "base_uri": "https://localhost:8080/"
        },
        "id": "_T7sOu-rYJZI",
        "outputId": "46b076cb-54e0-49f5-ad0d-2178ad34d56d"
      },
      "execution_count": null,
      "outputs": [
        {
          "output_type": "stream",
          "name": "stdout",
          "text": [
            "[('Luke Skywalker', '172'), ('C-3PO', '167'), ('R2-D2', '96'), ('Darth Vader', '202'), ('Leia Organa', '150')]\n"
          ]
        }
      ]
    },
    {
      "cell_type": "code",
      "source": [
        "characters"
      ],
      "metadata": {
        "colab": {
          "base_uri": "https://localhost:8080/"
        },
        "id": "QG4FG7R-dKtE",
        "outputId": "2b5f7c80-83a4-4fd8-c949-4e8c68fbab8e"
      },
      "execution_count": null,
      "outputs": [
        {
          "output_type": "execute_result",
          "data": {
            "text/plain": [
              "[('Luke Skywalker', '172'),\n",
              " ('C-3PO', '167'),\n",
              " ('R2-D2', '96'),\n",
              " ('Darth Vader', '202'),\n",
              " ('Leia Organa', '150')]"
            ]
          },
          "metadata": {},
          "execution_count": 35
        }
      ]
    },
    {
      "cell_type": "code",
      "source": [
        "# web scraping\n",
        "# install new library on google colab\n",
        "# pip => package manager in Python\n",
        "\n",
        "!pip install gazpacho"
      ],
      "metadata": {
        "id": "p4xwOa0LepqT",
        "colab": {
          "base_uri": "https://localhost:8080/"
        },
        "outputId": "b7e93e2d-e5dd-4af6-94a1-b7a3d34e511d"
      },
      "execution_count": 1,
      "outputs": [
        {
          "output_type": "stream",
          "name": "stdout",
          "text": [
            "Collecting gazpacho\n",
            "  Downloading gazpacho-1.1.tar.gz (7.9 kB)\n",
            "  Installing build dependencies ... \u001b[?25l\u001b[?25hdone\n",
            "  Getting requirements to build wheel ... \u001b[?25l\u001b[?25hdone\n",
            "  Preparing metadata (pyproject.toml) ... \u001b[?25l\u001b[?25hdone\n",
            "Building wheels for collected packages: gazpacho\n",
            "  Building wheel for gazpacho (pyproject.toml) ... \u001b[?25l\u001b[?25hdone\n",
            "  Created wheel for gazpacho: filename=gazpacho-1.1-py3-none-any.whl size=7461 sha256=8f1d5387c7b21af1b5e09e1aadb90522687515df559566c4f84f3e3902de5dad\n",
            "  Stored in directory: /root/.cache/pip/wheels/9b/bf/9f/8c8849499462415fa5cdf0d9edb1103c189bdbece90c51488e\n",
            "Successfully built gazpacho\n",
            "Installing collected packages: gazpacho\n",
            "Successfully installed gazpacho-1.1\n"
          ]
        }
      ]
    },
    {
      "cell_type": "code",
      "source": [
        "!pip list"
      ],
      "metadata": {
        "colab": {
          "base_uri": "https://localhost:8080/"
        },
        "id": "rEKUsNHoAZBf",
        "outputId": "6950e06b-5cf1-475a-a062-b647acb66700"
      },
      "execution_count": 2,
      "outputs": [
        {
          "output_type": "stream",
          "name": "stdout",
          "text": [
            "Package                          Version\n",
            "-------------------------------- ---------------------\n",
            "absl-py                          1.4.0\n",
            "aiohttp                          3.8.5\n",
            "aiosignal                        1.3.1\n",
            "alabaster                        0.7.13\n",
            "albumentations                   1.3.1\n",
            "altair                           4.2.2\n",
            "annotated-types                  0.5.0\n",
            "anyio                            3.7.1\n",
            "appdirs                          1.4.4\n",
            "argon2-cffi                      23.1.0\n",
            "argon2-cffi-bindings             21.2.0\n",
            "array-record                     0.4.1\n",
            "arviz                            0.15.1\n",
            "astropy                          5.3.2\n",
            "astunparse                       1.6.3\n",
            "async-timeout                    4.0.3\n",
            "attrs                            23.1.0\n",
            "audioread                        3.0.0\n",
            "autograd                         1.6.2\n",
            "Babel                            2.12.1\n",
            "backcall                         0.2.0\n",
            "beautifulsoup4                   4.11.2\n",
            "bleach                           6.0.0\n",
            "blinker                          1.4\n",
            "blis                             0.7.10\n",
            "blosc2                           2.0.0\n",
            "bokeh                            3.2.2\n",
            "branca                           0.6.0\n",
            "build                            0.10.0\n",
            "CacheControl                     0.13.1\n",
            "cachetools                       5.3.1\n",
            "catalogue                        2.0.9\n",
            "certifi                          2023.7.22\n",
            "cffi                             1.15.1\n",
            "chardet                          5.2.0\n",
            "charset-normalizer               3.2.0\n",
            "chex                             0.1.7\n",
            "click                            8.1.7\n",
            "click-plugins                    1.1.1\n",
            "cligj                            0.7.2\n",
            "cloudpickle                      2.2.1\n",
            "cmake                            3.27.2\n",
            "cmdstanpy                        1.1.0\n",
            "colorcet                         3.0.1\n",
            "colorlover                       0.3.0\n",
            "community                        1.0.0b1\n",
            "confection                       0.1.1\n",
            "cons                             0.4.6\n",
            "contextlib2                      21.6.0\n",
            "contourpy                        1.1.0\n",
            "convertdate                      2.4.0\n",
            "cryptography                     41.0.3\n",
            "cufflinks                        0.17.3\n",
            "cvxopt                           1.3.2\n",
            "cvxpy                            1.3.2\n",
            "cycler                           0.11.0\n",
            "cymem                            2.0.7\n",
            "Cython                           0.29.36\n",
            "dask                             2023.8.1\n",
            "datascience                      0.17.6\n",
            "db-dtypes                        1.1.1\n",
            "dbus-python                      1.2.18\n",
            "debugpy                          1.6.6\n",
            "decorator                        4.4.2\n",
            "defusedxml                       0.7.1\n",
            "distributed                      2023.8.1\n",
            "distro                           1.7.0\n",
            "dlib                             19.24.2\n",
            "dm-tree                          0.1.8\n",
            "docutils                         0.18.1\n",
            "dopamine-rl                      4.0.6\n",
            "duckdb                           0.8.1\n",
            "earthengine-api                  0.1.364\n",
            "easydict                         1.10\n",
            "ecos                             2.0.12\n",
            "editdistance                     0.6.2\n",
            "en-core-web-sm                   3.6.0\n",
            "entrypoints                      0.4\n",
            "ephem                            4.1.4\n",
            "et-xmlfile                       1.1.0\n",
            "etils                            1.4.1\n",
            "etuples                          0.3.9\n",
            "exceptiongroup                   1.1.3\n",
            "fastai                           2.7.12\n",
            "fastcore                         1.5.29\n",
            "fastdownload                     0.0.7\n",
            "fastjsonschema                   2.18.0\n",
            "fastprogress                     1.0.3\n",
            "fastrlock                        0.8.1\n",
            "filelock                         3.12.2\n",
            "Fiona                            1.9.4.post1\n",
            "firebase-admin                   5.3.0\n",
            "Flask                            2.2.5\n",
            "flatbuffers                      23.5.26\n",
            "flax                             0.7.2\n",
            "folium                           0.14.0\n",
            "fonttools                        4.42.1\n",
            "frozendict                       2.3.8\n",
            "frozenlist                       1.4.0\n",
            "fsspec                           2023.6.0\n",
            "future                           0.18.3\n",
            "gast                             0.4.0\n",
            "gazpacho                         1.1\n",
            "gcsfs                            2023.6.0\n",
            "GDAL                             3.4.3\n",
            "gdown                            4.6.6\n",
            "gensim                           4.3.1\n",
            "geographiclib                    2.0\n",
            "geopandas                        0.13.2\n",
            "geopy                            2.3.0\n",
            "gin-config                       0.5.0\n",
            "glob2                            0.7\n",
            "google                           2.0.3\n",
            "google-api-core                  2.11.1\n",
            "google-api-python-client         2.84.0\n",
            "google-auth                      2.17.3\n",
            "google-auth-httplib2             0.1.0\n",
            "google-auth-oauthlib             1.0.0\n",
            "google-cloud-bigquery            3.10.0\n",
            "google-cloud-bigquery-connection 1.12.1\n",
            "google-cloud-bigquery-storage    2.22.0\n",
            "google-cloud-core                2.3.3\n",
            "google-cloud-datastore           2.15.2\n",
            "google-cloud-firestore           2.11.1\n",
            "google-cloud-functions           1.13.2\n",
            "google-cloud-language            2.9.1\n",
            "google-cloud-storage             2.8.0\n",
            "google-cloud-translate           3.11.3\n",
            "google-colab                     1.0.0\n",
            "google-crc32c                    1.5.0\n",
            "google-pasta                     0.2.0\n",
            "google-resumable-media           2.5.0\n",
            "googleapis-common-protos         1.60.0\n",
            "googledrivedownloader            0.4\n",
            "graphviz                         0.20.1\n",
            "greenlet                         2.0.2\n",
            "grpc-google-iam-v1               0.12.6\n",
            "grpcio                           1.57.0\n",
            "grpcio-status                    1.48.2\n",
            "gspread                          3.4.2\n",
            "gspread-dataframe                3.3.1\n",
            "gym                              0.25.2\n",
            "gym-notices                      0.0.8\n",
            "h5netcdf                         1.2.0\n",
            "h5py                             3.9.0\n",
            "holidays                         0.31\n",
            "holoviews                        1.17.1\n",
            "html5lib                         1.1\n",
            "httpimport                       1.3.1\n",
            "httplib2                         0.22.0\n",
            "humanize                         4.7.0\n",
            "hyperopt                         0.2.7\n",
            "idna                             3.4\n",
            "imageio                          2.31.1\n",
            "imageio-ffmpeg                   0.4.8\n",
            "imagesize                        1.4.1\n",
            "imbalanced-learn                 0.10.1\n",
            "imgaug                           0.4.0\n",
            "importlib-metadata               6.8.0\n",
            "importlib-resources              6.0.1\n",
            "imutils                          0.5.4\n",
            "inflect                          7.0.0\n",
            "iniconfig                        2.0.0\n",
            "intel-openmp                     2023.2.0\n",
            "ipykernel                        5.5.6\n",
            "ipython                          7.34.0\n",
            "ipython-genutils                 0.2.0\n",
            "ipython-sql                      0.5.0\n",
            "ipywidgets                       7.7.1\n",
            "itsdangerous                     2.1.2\n",
            "jax                              0.4.14\n",
            "jaxlib                           0.4.14+cuda11.cudnn86\n",
            "jeepney                          0.7.1\n",
            "jieba                            0.42.1\n",
            "Jinja2                           3.1.2\n",
            "joblib                           1.3.2\n",
            "jsonpickle                       3.0.2\n",
            "jsonschema                       4.19.0\n",
            "jsonschema-specifications        2023.7.1\n",
            "jupyter-client                   6.1.12\n",
            "jupyter-console                  6.1.0\n",
            "jupyter_core                     5.3.1\n",
            "jupyter-server                   1.24.0\n",
            "jupyterlab-pygments              0.2.2\n",
            "jupyterlab-widgets               3.0.8\n",
            "kaggle                           1.5.16\n",
            "keras                            2.12.0\n",
            "keyring                          23.5.0\n",
            "kiwisolver                       1.4.4\n",
            "langcodes                        3.3.0\n",
            "launchpadlib                     1.10.16\n",
            "lazr.restfulclient               0.14.4\n",
            "lazr.uri                         1.0.6\n",
            "lazy_loader                      0.3\n",
            "libclang                         16.0.6\n",
            "librosa                          0.10.1\n",
            "lightgbm                         4.0.0\n",
            "linkify-it-py                    2.0.2\n",
            "lit                              16.0.6\n",
            "llvmlite                         0.39.1\n",
            "locket                           1.0.0\n",
            "logical-unification              0.4.6\n",
            "LunarCalendar                    0.0.9\n",
            "lxml                             4.9.3\n",
            "Markdown                         3.4.4\n",
            "markdown-it-py                   3.0.0\n",
            "MarkupSafe                       2.1.3\n",
            "matplotlib                       3.7.1\n",
            "matplotlib-inline                0.1.6\n",
            "matplotlib-venn                  0.11.9\n",
            "mdit-py-plugins                  0.4.0\n",
            "mdurl                            0.1.2\n",
            "miniKanren                       1.0.3\n",
            "missingno                        0.5.2\n",
            "mistune                          0.8.4\n",
            "mizani                           0.9.2\n",
            "mkl                              2023.2.0\n",
            "ml-dtypes                        0.2.0\n",
            "mlxtend                          0.22.0\n",
            "more-itertools                   10.1.0\n",
            "moviepy                          1.0.3\n",
            "mpmath                           1.3.0\n",
            "msgpack                          1.0.5\n",
            "multidict                        6.0.4\n",
            "multipledispatch                 1.0.0\n",
            "multitasking                     0.0.11\n",
            "murmurhash                       1.0.9\n",
            "music21                          9.1.0\n",
            "natsort                          8.4.0\n",
            "nbclassic                        1.0.0\n",
            "nbclient                         0.8.0\n",
            "nbconvert                        6.5.4\n",
            "nbformat                         5.9.2\n",
            "nest-asyncio                     1.5.7\n",
            "networkx                         3.1\n",
            "nibabel                          4.0.2\n",
            "nltk                             3.8.1\n",
            "notebook                         6.5.5\n",
            "notebook_shim                    0.2.3\n",
            "numba                            0.56.4\n",
            "numexpr                          2.8.5\n",
            "numpy                            1.23.5\n",
            "oauth2client                     4.1.3\n",
            "oauthlib                         3.2.2\n",
            "opencv-contrib-python            4.8.0.76\n",
            "opencv-python                    4.8.0.76\n",
            "opencv-python-headless           4.8.0.76\n",
            "openpyxl                         3.1.2\n",
            "opt-einsum                       3.3.0\n",
            "optax                            0.1.7\n",
            "orbax-checkpoint                 0.3.5\n",
            "osqp                             0.6.2.post8\n",
            "packaging                        23.1\n",
            "pandas                           1.5.3\n",
            "pandas-datareader                0.10.0\n",
            "pandas-gbq                       0.17.9\n",
            "pandocfilters                    1.5.0\n",
            "panel                            1.2.1\n",
            "param                            1.13.0\n",
            "parso                            0.8.3\n",
            "partd                            1.4.0\n",
            "pathlib                          1.0.1\n",
            "pathy                            0.10.2\n",
            "patsy                            0.5.3\n",
            "pexpect                          4.8.0\n",
            "pickleshare                      0.7.5\n",
            "Pillow                           9.4.0\n",
            "pip                              23.1.2\n",
            "pip-tools                        6.13.0\n",
            "platformdirs                     3.10.0\n",
            "plotly                           5.15.0\n",
            "plotnine                         0.12.2\n",
            "pluggy                           1.2.0\n",
            "polars                           0.17.3\n",
            "pooch                            1.7.0\n",
            "portpicker                       1.5.2\n",
            "prefetch-generator               1.0.3\n",
            "preshed                          3.0.8\n",
            "prettytable                      3.8.0\n",
            "proglog                          0.1.10\n",
            "progressbar2                     4.2.0\n",
            "prometheus-client                0.17.1\n",
            "promise                          2.3\n",
            "prompt-toolkit                   3.0.39\n",
            "prophet                          1.1.4\n",
            "proto-plus                       1.22.3\n",
            "protobuf                         3.20.3\n",
            "psutil                           5.9.5\n",
            "psycopg2                         2.9.7\n",
            "ptyprocess                       0.7.0\n",
            "py-cpuinfo                       9.0.0\n",
            "py4j                             0.10.9.7\n",
            "pyarrow                          9.0.0\n",
            "pyasn1                           0.5.0\n",
            "pyasn1-modules                   0.3.0\n",
            "pycocotools                      2.0.7\n",
            "pycparser                        2.21\n",
            "pyct                             0.5.0\n",
            "pydantic                         2.2.1\n",
            "pydantic_core                    2.6.1\n",
            "pydata-google-auth               1.8.2\n",
            "pydot                            1.4.2\n",
            "pydot-ng                         2.0.0\n",
            "pydotplus                        2.0.2\n",
            "PyDrive                          1.3.1\n",
            "PyDrive2                         1.6.3\n",
            "pyerfa                           2.0.0.3\n",
            "pygame                           2.5.1\n",
            "Pygments                         2.16.1\n",
            "PyGObject                        3.42.1\n",
            "PyJWT                            2.3.0\n",
            "pymc                             5.7.2\n",
            "PyMeeus                          0.5.12\n",
            "pymystem3                        0.2.0\n",
            "PyOpenGL                         3.1.7\n",
            "pyOpenSSL                        23.2.0\n",
            "pyparsing                        3.1.1\n",
            "pyproj                           3.6.0\n",
            "pyproject_hooks                  1.0.0\n",
            "PySocks                          1.7.1\n",
            "pytensor                         2.14.2\n",
            "pytest                           7.4.0\n",
            "python-apt                       0.0.0\n",
            "python-dateutil                  2.8.2\n",
            "python-louvain                   0.16\n",
            "python-slugify                   8.0.1\n",
            "python-utils                     3.7.0\n",
            "pytz                             2023.3\n",
            "pyviz_comms                      3.0.0\n",
            "PyWavelets                       1.4.1\n",
            "PyYAML                           6.0.1\n",
            "pyzmq                            23.2.1\n",
            "qdldl                            0.1.7.post0\n",
            "qudida                           0.0.4\n",
            "referencing                      0.30.2\n",
            "regex                            2023.6.3\n",
            "requests                         2.31.0\n",
            "requests-oauthlib                1.3.1\n",
            "requirements-parser              0.5.0\n",
            "rich                             13.5.2\n",
            "rpds-py                          0.9.2\n",
            "rpy2                             3.4.2\n",
            "rsa                              4.9\n",
            "scikit-image                     0.19.3\n",
            "scikit-learn                     1.2.2\n",
            "scipy                            1.10.1\n",
            "scs                              3.2.3\n",
            "seaborn                          0.12.2\n",
            "SecretStorage                    3.3.1\n",
            "Send2Trash                       1.8.2\n",
            "setuptools                       67.7.2\n",
            "shapely                          2.0.1\n",
            "six                              1.16.0\n",
            "sklearn-pandas                   2.2.0\n",
            "smart-open                       6.3.0\n",
            "sniffio                          1.3.0\n",
            "snowballstemmer                  2.2.0\n",
            "sortedcontainers                 2.4.0\n",
            "soundfile                        0.12.1\n",
            "soupsieve                        2.4.1\n",
            "soxr                             0.3.6\n",
            "spacy                            3.6.1\n",
            "spacy-legacy                     3.0.12\n",
            "spacy-loggers                    1.0.4\n",
            "Sphinx                           5.0.2\n",
            "sphinxcontrib-applehelp          1.0.7\n",
            "sphinxcontrib-devhelp            1.0.5\n",
            "sphinxcontrib-htmlhelp           2.0.4\n",
            "sphinxcontrib-jsmath             1.0.1\n",
            "sphinxcontrib-qthelp             1.0.6\n",
            "sphinxcontrib-serializinghtml    1.1.9\n",
            "SQLAlchemy                       2.0.20\n",
            "sqlparse                         0.4.4\n",
            "srsly                            2.4.7\n",
            "statsmodels                      0.14.0\n",
            "sympy                            1.12\n",
            "tables                           3.8.0\n",
            "tabulate                         0.9.0\n",
            "tbb                              2021.10.0\n",
            "tblib                            2.0.0\n",
            "tenacity                         8.2.3\n",
            "tensorboard                      2.12.3\n",
            "tensorboard-data-server          0.7.1\n",
            "tensorflow                       2.12.0\n",
            "tensorflow-datasets              4.9.2\n",
            "tensorflow-estimator             2.12.0\n",
            "tensorflow-gcs-config            2.12.0\n",
            "tensorflow-hub                   0.14.0\n",
            "tensorflow-io-gcs-filesystem     0.33.0\n",
            "tensorflow-metadata              1.14.0\n",
            "tensorflow-probability           0.20.1\n",
            "tensorstore                      0.1.41\n",
            "termcolor                        2.3.0\n",
            "terminado                        0.17.1\n",
            "text-unidecode                   1.3\n",
            "textblob                         0.17.1\n",
            "tf-slim                          1.1.0\n",
            "thinc                            8.1.12\n",
            "threadpoolctl                    3.2.0\n",
            "tifffile                         2023.8.12\n",
            "tinycss2                         1.2.1\n",
            "toml                             0.10.2\n",
            "tomli                            2.0.1\n",
            "toolz                            0.12.0\n",
            "torch                            2.0.1+cu118\n",
            "torchaudio                       2.0.2+cu118\n",
            "torchdata                        0.6.1\n",
            "torchsummary                     1.5.1\n",
            "torchtext                        0.15.2\n",
            "torchvision                      0.15.2+cu118\n",
            "tornado                          6.3.2\n",
            "tqdm                             4.66.1\n",
            "traitlets                        5.7.1\n",
            "triton                           2.0.0\n",
            "tweepy                           4.13.0\n",
            "typer                            0.9.0\n",
            "types-setuptools                 68.1.0.0\n",
            "typing_extensions                4.7.1\n",
            "tzlocal                          5.0.1\n",
            "uc-micro-py                      1.0.2\n",
            "uritemplate                      4.1.1\n",
            "urllib3                          2.0.4\n",
            "vega-datasets                    0.9.0\n",
            "wadllib                          1.3.6\n",
            "wasabi                           1.1.2\n",
            "wcwidth                          0.2.6\n",
            "webcolors                        1.13\n",
            "webencodings                     0.5.1\n",
            "websocket-client                 1.6.2\n",
            "Werkzeug                         2.3.7\n",
            "wheel                            0.41.2\n",
            "widgetsnbextension               3.6.5\n",
            "wordcloud                        1.9.2\n",
            "wrapt                            1.14.1\n",
            "xarray                           2023.7.0\n",
            "xarray-einstats                  0.6.0\n",
            "xgboost                          1.7.6\n",
            "xlrd                             2.0.1\n",
            "xyzservices                      2023.7.0\n",
            "yarl                             1.9.2\n",
            "yellowbrick                      1.5\n",
            "yfinance                         0.2.28\n",
            "zict                             3.0.0\n",
            "zipp                             3.16.2\n"
          ]
        }
      ]
    },
    {
      "cell_type": "code",
      "source": [
        "## import function\n",
        "from gazpacho import Soup\n",
        "import requests"
      ],
      "metadata": {
        "id": "f1d0bujaBo4Q"
      },
      "execution_count": 3,
      "outputs": []
    },
    {
      "cell_type": "code",
      "source": [
        "# web sraping basic\n",
        "url = \"https://www.imdb.com/search/title/?groups=top_100&sort=user_rating,desc\"\n",
        "\n",
        "html = requests.get(url)\n",
        "print(html) # check status code"
      ],
      "metadata": {
        "colab": {
          "base_uri": "https://localhost:8080/"
        },
        "id": "ih91kA6WFc7d",
        "outputId": "6d17667b-1ce7-4ebe-dec7-c11f7cdba6ae"
      },
      "execution_count": 6,
      "outputs": [
        {
          "output_type": "stream",
          "name": "stdout",
          "text": [
            "<Response [200]>\n"
          ]
        }
      ]
    },
    {
      "cell_type": "code",
      "source": [
        "html.text"
      ],
      "metadata": {
        "id": "aXmdNJLpFq_Q"
      },
      "execution_count": null,
      "outputs": []
    },
    {
      "cell_type": "code",
      "source": [
        "imdb = Soup(html.text)\n",
        "print(imdb)"
      ],
      "metadata": {
        "id": "aarsXQi5FsQv"
      },
      "execution_count": null,
      "outputs": []
    },
    {
      "cell_type": "code",
      "source": [
        "titles = imdb.find(\"h3\", {\"class\": \"lister-item-header\"})\n",
        "# the data collected in list data type\n",
        "\n",
        "# basic cleaning method by for loop\n",
        "\n",
        "\"\"\"\n",
        "clean_titles = []\n",
        "\n",
        "\n",
        "for title in titles:\n",
        "  clean_titles.append(title.strip())\n",
        "\"\"\"\n",
        "\n",
        "# list comprehension to clean by one shot\n",
        "\n",
        "clean_titles = [title.strip() for title in titles]\n",
        "\n",
        "clean_titles"
      ],
      "metadata": {
        "colab": {
          "base_uri": "https://localhost:8080/"
        },
        "id": "VLrifpqTGGdF",
        "outputId": "033f6e5c-9dd5-43b1-c76b-8f86e158124d"
      },
      "execution_count": 33,
      "outputs": [
        {
          "output_type": "execute_result",
          "data": {
            "text/plain": [
              "['1. The Shawshank Redemption (1994)',\n",
              " '2. The Godfather (1972)',\n",
              " '3. The Dark Knight (2008)',\n",
              " \"4. Schindler's List (1993)\",\n",
              " '5. The Godfather Part II (1974)',\n",
              " '6. The Lord of the Rings: The Return of the King (2003)',\n",
              " '7. 12 Angry Men (1957)',\n",
              " '8. Pulp Fiction (1994)',\n",
              " '9. Spider-Man: Across the Spider-Verse (2023)',\n",
              " '10. Inception (2010)',\n",
              " '11. The Lord of the Rings: The Fellowship of the Ring (2001)',\n",
              " '12. Fight Club (1999)',\n",
              " '13. Forrest Gump (1994)',\n",
              " '14. The Good, the Bad and the Ugly (1966)',\n",
              " '15. The Lord of the Rings: The Two Towers (2002)',\n",
              " '16. Interstellar (2014)',\n",
              " '17. Goodfellas (1990)',\n",
              " '18. The Matrix (1999)',\n",
              " \"19. One Flew Over the Cuckoo's Nest (1975)\",\n",
              " '20. Star Wars: Episode V - The Empire Strikes Back (1980)',\n",
              " '21. Oppenheimer (2023)',\n",
              " '22. Se7en (1995)',\n",
              " '23. The Silence of the Lambs (1991)',\n",
              " '24. Terminator 2: Judgment Day (1991)',\n",
              " '25. Saving Private Ryan (1998)',\n",
              " '26. The Green Mile (1999)',\n",
              " '27. Spirited Away (2001)',\n",
              " '28. Star Wars: Episode IV - A New Hope (1977)',\n",
              " '29. City of God (2002)',\n",
              " '30. Life Is Beautiful (1997)',\n",
              " '31. Seven Samurai (1954)',\n",
              " \"32. It's a Wonderful Life (1946)\",\n",
              " '33. Harakiri (1962)',\n",
              " '34. The Prestige (2006)',\n",
              " '35. The Departed (2006)',\n",
              " '36. Gladiator (2000)',\n",
              " '37. Parasite (2019)',\n",
              " '38. Django Unchained (2012)',\n",
              " '39. Back to the Future (1985)',\n",
              " '40. Alien (1979)',\n",
              " '41. Whiplash (2014)',\n",
              " '42. Léon: The Professional (1994)',\n",
              " '43. The Pianist (2002)',\n",
              " '44. The Usual Suspects (1995)',\n",
              " '45. The Lion King (1994)',\n",
              " '46. American History X (1998)',\n",
              " '47. Psycho (1960)',\n",
              " '48. Once Upon a Time in the West (1968)',\n",
              " '49. Casablanca (1942)',\n",
              " '50. The Intouchables (2011)']"
            ]
          },
          "metadata": {},
          "execution_count": 33
        }
      ]
    },
    {
      "cell_type": "code",
      "source": [
        "# clean rating\n",
        "ratings = imdb.find(\"div\", {\"class\": \"inline-block ratings-imdb-rating\"})\n",
        "\n",
        "\n",
        "# list comprehension to clean by one shot\n",
        "# use float to convert string to number\n",
        "clean_ratings = [float(rating.strip()) for rating in ratings]\n",
        "\n",
        "clean_ratings"
      ],
      "metadata": {
        "colab": {
          "base_uri": "https://localhost:8080/"
        },
        "id": "V1p2-Pb9GOiZ",
        "outputId": "11196ae2-8441-41bb-d17c-c86f3e077d0c"
      },
      "execution_count": 32,
      "outputs": [
        {
          "output_type": "execute_result",
          "data": {
            "text/plain": [
              "[9.3,\n",
              " 9.2,\n",
              " 9.0,\n",
              " 9.0,\n",
              " 9.0,\n",
              " 9.0,\n",
              " 9.0,\n",
              " 8.9,\n",
              " 8.8,\n",
              " 8.8,\n",
              " 8.8,\n",
              " 8.8,\n",
              " 8.8,\n",
              " 8.8,\n",
              " 8.8,\n",
              " 8.7,\n",
              " 8.7,\n",
              " 8.7,\n",
              " 8.7,\n",
              " 8.7,\n",
              " 8.6,\n",
              " 8.6,\n",
              " 8.6,\n",
              " 8.6,\n",
              " 8.6,\n",
              " 8.6,\n",
              " 8.6,\n",
              " 8.6,\n",
              " 8.6,\n",
              " 8.6,\n",
              " 8.6,\n",
              " 8.6,\n",
              " 8.6,\n",
              " 8.5,\n",
              " 8.5,\n",
              " 8.5,\n",
              " 8.5,\n",
              " 8.5,\n",
              " 8.5,\n",
              " 8.5,\n",
              " 8.5,\n",
              " 8.5,\n",
              " 8.5,\n",
              " 8.5,\n",
              " 8.5,\n",
              " 8.5,\n",
              " 8.5,\n",
              " 8.5,\n",
              " 8.5,\n",
              " 8.5]"
            ]
          },
          "metadata": {},
          "execution_count": 32
        }
      ]
    },
    {
      "cell_type": "code",
      "source": [
        "# create dataframe\n",
        "import pandas as pd\n",
        "movie_database = pd.DataFrame(data = {\n",
        "    \"title\" : clean_titles,\n",
        "    \"rating\" : clean_ratings\n",
        "\n",
        "})\n",
        "\n",
        "# view first five rows\n",
        "movie_database.head()"
      ],
      "metadata": {
        "colab": {
          "base_uri": "https://localhost:8080/",
          "height": 206
        },
        "id": "YrjT2WCwOwPb",
        "outputId": "38f5d38f-fbef-4231-f9cf-02a1aac400fb"
      },
      "execution_count": 36,
      "outputs": [
        {
          "output_type": "execute_result",
          "data": {
            "text/plain": [
              "                                title  rating\n",
              "0  1. The Shawshank Redemption (1994)     9.3\n",
              "1             2. The Godfather (1972)     9.2\n",
              "2           3. The Dark Knight (2008)     9.0\n",
              "3          4. Schindler's List (1993)     9.0\n",
              "4     5. The Godfather Part II (1974)     9.0"
            ],
            "text/html": [
              "\n",
              "  <div id=\"df-2b817490-d807-414a-82f2-ab51d3f0c608\" class=\"colab-df-container\">\n",
              "    <div>\n",
              "<style scoped>\n",
              "    .dataframe tbody tr th:only-of-type {\n",
              "        vertical-align: middle;\n",
              "    }\n",
              "\n",
              "    .dataframe tbody tr th {\n",
              "        vertical-align: top;\n",
              "    }\n",
              "\n",
              "    .dataframe thead th {\n",
              "        text-align: right;\n",
              "    }\n",
              "</style>\n",
              "<table border=\"1\" class=\"dataframe\">\n",
              "  <thead>\n",
              "    <tr style=\"text-align: right;\">\n",
              "      <th></th>\n",
              "      <th>title</th>\n",
              "      <th>rating</th>\n",
              "    </tr>\n",
              "  </thead>\n",
              "  <tbody>\n",
              "    <tr>\n",
              "      <th>0</th>\n",
              "      <td>1. The Shawshank Redemption (1994)</td>\n",
              "      <td>9.3</td>\n",
              "    </tr>\n",
              "    <tr>\n",
              "      <th>1</th>\n",
              "      <td>2. The Godfather (1972)</td>\n",
              "      <td>9.2</td>\n",
              "    </tr>\n",
              "    <tr>\n",
              "      <th>2</th>\n",
              "      <td>3. The Dark Knight (2008)</td>\n",
              "      <td>9.0</td>\n",
              "    </tr>\n",
              "    <tr>\n",
              "      <th>3</th>\n",
              "      <td>4. Schindler's List (1993)</td>\n",
              "      <td>9.0</td>\n",
              "    </tr>\n",
              "    <tr>\n",
              "      <th>4</th>\n",
              "      <td>5. The Godfather Part II (1974)</td>\n",
              "      <td>9.0</td>\n",
              "    </tr>\n",
              "  </tbody>\n",
              "</table>\n",
              "</div>\n",
              "    <div class=\"colab-df-buttons\">\n",
              "\n",
              "  <div class=\"colab-df-container\">\n",
              "    <button class=\"colab-df-convert\" onclick=\"convertToInteractive('df-2b817490-d807-414a-82f2-ab51d3f0c608')\"\n",
              "            title=\"Convert this dataframe to an interactive table.\"\n",
              "            style=\"display:none;\">\n",
              "\n",
              "  <svg xmlns=\"http://www.w3.org/2000/svg\" height=\"24px\" viewBox=\"0 -960 960 960\">\n",
              "    <path d=\"M120-120v-720h720v720H120Zm60-500h600v-160H180v160Zm220 220h160v-160H400v160Zm0 220h160v-160H400v160ZM180-400h160v-160H180v160Zm440 0h160v-160H620v160ZM180-180h160v-160H180v160Zm440 0h160v-160H620v160Z\"/>\n",
              "  </svg>\n",
              "    </button>\n",
              "\n",
              "  <style>\n",
              "    .colab-df-container {\n",
              "      display:flex;\n",
              "      gap: 12px;\n",
              "    }\n",
              "\n",
              "    .colab-df-convert {\n",
              "      background-color: #E8F0FE;\n",
              "      border: none;\n",
              "      border-radius: 50%;\n",
              "      cursor: pointer;\n",
              "      display: none;\n",
              "      fill: #1967D2;\n",
              "      height: 32px;\n",
              "      padding: 0 0 0 0;\n",
              "      width: 32px;\n",
              "    }\n",
              "\n",
              "    .colab-df-convert:hover {\n",
              "      background-color: #E2EBFA;\n",
              "      box-shadow: 0px 1px 2px rgba(60, 64, 67, 0.3), 0px 1px 3px 1px rgba(60, 64, 67, 0.15);\n",
              "      fill: #174EA6;\n",
              "    }\n",
              "\n",
              "    .colab-df-buttons div {\n",
              "      margin-bottom: 4px;\n",
              "    }\n",
              "\n",
              "    [theme=dark] .colab-df-convert {\n",
              "      background-color: #3B4455;\n",
              "      fill: #D2E3FC;\n",
              "    }\n",
              "\n",
              "    [theme=dark] .colab-df-convert:hover {\n",
              "      background-color: #434B5C;\n",
              "      box-shadow: 0px 1px 3px 1px rgba(0, 0, 0, 0.15);\n",
              "      filter: drop-shadow(0px 1px 2px rgba(0, 0, 0, 0.3));\n",
              "      fill: #FFFFFF;\n",
              "    }\n",
              "  </style>\n",
              "\n",
              "    <script>\n",
              "      const buttonEl =\n",
              "        document.querySelector('#df-2b817490-d807-414a-82f2-ab51d3f0c608 button.colab-df-convert');\n",
              "      buttonEl.style.display =\n",
              "        google.colab.kernel.accessAllowed ? 'block' : 'none';\n",
              "\n",
              "      async function convertToInteractive(key) {\n",
              "        const element = document.querySelector('#df-2b817490-d807-414a-82f2-ab51d3f0c608');\n",
              "        const dataTable =\n",
              "          await google.colab.kernel.invokeFunction('convertToInteractive',\n",
              "                                                    [key], {});\n",
              "        if (!dataTable) return;\n",
              "\n",
              "        const docLinkHtml = 'Like what you see? Visit the ' +\n",
              "          '<a target=\"_blank\" href=https://colab.research.google.com/notebooks/data_table.ipynb>data table notebook</a>'\n",
              "          + ' to learn more about interactive tables.';\n",
              "        element.innerHTML = '';\n",
              "        dataTable['output_type'] = 'display_data';\n",
              "        await google.colab.output.renderOutput(dataTable, element);\n",
              "        const docLink = document.createElement('div');\n",
              "        docLink.innerHTML = docLinkHtml;\n",
              "        element.appendChild(docLink);\n",
              "      }\n",
              "    </script>\n",
              "  </div>\n",
              "\n",
              "\n",
              "<div id=\"df-9fec91f7-660d-48ef-9033-1394cc1bb924\">\n",
              "  <button class=\"colab-df-quickchart\" onclick=\"quickchart('df-9fec91f7-660d-48ef-9033-1394cc1bb924')\"\n",
              "            title=\"Suggest charts.\"\n",
              "            style=\"display:none;\">\n",
              "\n",
              "<svg xmlns=\"http://www.w3.org/2000/svg\" height=\"24px\"viewBox=\"0 0 24 24\"\n",
              "     width=\"24px\">\n",
              "    <g>\n",
              "        <path d=\"M19 3H5c-1.1 0-2 .9-2 2v14c0 1.1.9 2 2 2h14c1.1 0 2-.9 2-2V5c0-1.1-.9-2-2-2zM9 17H7v-7h2v7zm4 0h-2V7h2v10zm4 0h-2v-4h2v4z\"/>\n",
              "    </g>\n",
              "</svg>\n",
              "  </button>\n",
              "\n",
              "<style>\n",
              "  .colab-df-quickchart {\n",
              "    background-color: #E8F0FE;\n",
              "    border: none;\n",
              "    border-radius: 50%;\n",
              "    cursor: pointer;\n",
              "    display: none;\n",
              "    fill: #1967D2;\n",
              "    height: 32px;\n",
              "    padding: 0 0 0 0;\n",
              "    width: 32px;\n",
              "  }\n",
              "\n",
              "  .colab-df-quickchart:hover {\n",
              "    background-color: #E2EBFA;\n",
              "    box-shadow: 0px 1px 2px rgba(60, 64, 67, 0.3), 0px 1px 3px 1px rgba(60, 64, 67, 0.15);\n",
              "    fill: #174EA6;\n",
              "  }\n",
              "\n",
              "  [theme=dark] .colab-df-quickchart {\n",
              "    background-color: #3B4455;\n",
              "    fill: #D2E3FC;\n",
              "  }\n",
              "\n",
              "  [theme=dark] .colab-df-quickchart:hover {\n",
              "    background-color: #434B5C;\n",
              "    box-shadow: 0px 1px 3px 1px rgba(0, 0, 0, 0.15);\n",
              "    filter: drop-shadow(0px 1px 2px rgba(0, 0, 0, 0.3));\n",
              "    fill: #FFFFFF;\n",
              "  }\n",
              "</style>\n",
              "\n",
              "  <script>\n",
              "    async function quickchart(key) {\n",
              "      const charts = await google.colab.kernel.invokeFunction(\n",
              "          'suggestCharts', [key], {});\n",
              "    }\n",
              "    (() => {\n",
              "      let quickchartButtonEl =\n",
              "        document.querySelector('#df-9fec91f7-660d-48ef-9033-1394cc1bb924 button');\n",
              "      quickchartButtonEl.style.display =\n",
              "        google.colab.kernel.accessAllowed ? 'block' : 'none';\n",
              "    })();\n",
              "  </script>\n",
              "</div>\n",
              "    </div>\n",
              "  </div>\n"
            ]
          },
          "metadata": {},
          "execution_count": 36
        }
      ]
    },
    {
      "cell_type": "code",
      "source": [],
      "metadata": {
        "id": "O7SQyORzPwea"
      },
      "execution_count": null,
      "outputs": []
    }
  ]
}